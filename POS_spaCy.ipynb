{
  "nbformat": 4,
  "nbformat_minor": 0,
  "metadata": {
    "colab": {
      "provenance": []
    },
    "kernelspec": {
      "name": "python3",
      "display_name": "Python 3"
    },
    "language_info": {
      "name": "python"
    }
  },
  "cells": [
    {
      "cell_type": "markdown",
      "source": [
        "**POS *tagging* en español con spaCy**"
      ],
      "metadata": {
        "id": "Snueu8qeVf5j"
      }
    },
    {
      "cell_type": "code",
      "execution_count": null,
      "metadata": {
        "id": "ng56Fh-QFBvh",
        "colab": {
          "base_uri": "https://localhost:8080/"
        },
        "outputId": "3cdd5332-4266-4343-df40-39978008b0f2"
      },
      "outputs": [
        {
          "output_type": "stream",
          "name": "stdout",
          "text": [
            "Collecting es-core-news-sm==3.8.0\n",
            "  Downloading https://github.com/explosion/spacy-models/releases/download/es_core_news_sm-3.8.0/es_core_news_sm-3.8.0-py3-none-any.whl (12.9 MB)\n",
            "\u001b[2K     \u001b[90m━━━━━━━━━━━━━━━━━━━━━━━━━━━━━━━━━━━━━━━\u001b[0m \u001b[32m12.9/12.9 MB\u001b[0m \u001b[31m110.6 MB/s\u001b[0m eta \u001b[36m0:00:00\u001b[0m\n",
            "\u001b[?25hInstalling collected packages: es-core-news-sm\n",
            "Successfully installed es-core-news-sm-3.8.0\n",
            "\u001b[38;5;2m✔ Download and installation successful\u001b[0m\n",
            "You can now load the package via spacy.load('es_core_news_sm')\n",
            "\u001b[38;5;3m⚠ Restart to reload dependencies\u001b[0m\n",
            "If you are in a Jupyter or Colab notebook, you may need to restart Python in\n",
            "order to load all the package's dependencies. You can do this by selecting the\n",
            "'Restart kernel' or 'Restart runtime' option.\n"
          ]
        }
      ],
      "source": [
        "!python -m spacy download es_core_news_sm\t#cargamos spaCy#"
      ]
    },
    {
      "cell_type": "code",
      "source": [
        "import spacy\t\t#importamos spaCy#"
      ],
      "metadata": {
        "id": "0PqutVmQGP7x"
      },
      "execution_count": null,
      "outputs": []
    },
    {
      "cell_type": "code",
      "source": [
        "nlp = spacy.load(\"es_core_news_sm\")\n",
        "ruta_archivo = \"entrada.txt\"\n",
        "\n",
        "with open(ruta_archivo, \"r\", encoding=\"utf-8\") as archivo:\n",
        "    texto = archivo.read()\n",
        "\n",
        "doc = nlp(texto)\n",
        "\n",
        "ruta_salida = \"salida.txt\"\n",
        "\n",
        "with open(ruta_salida, \"w\", encoding=\"utf-8\") as archivo_salida:\n",
        "    archivo_salida.write(f\"{'Token':<15}{'POS':<10}{'Etiqueta Detallada':<20}{'Lema':<15}\\n\")\n",
        "    for token in doc:\n",
        "        archivo_salida.write(f\"{token.text:<15}{token.pos_:<10}{token.tag_:<20}{token.lemma_:<15}\\n\")\n",
        "\n",
        "print(f\"Análisis completado. Los resultados se han guardado en '{ruta_salida}'.\")\n"
      ],
      "metadata": {
        "colab": {
          "base_uri": "https://localhost:8080/"
        },
        "id": "Df5-hIwFWOYP",
        "outputId": "0ff642f7-78cc-4bcb-8e80-1c0567b21d16"
      },
      "execution_count": null,
      "outputs": [
        {
          "output_type": "stream",
          "name": "stdout",
          "text": [
            "Análisis completado. Los resultados se han guardado en 'salida.txt'.\n"
          ]
        }
      ]
    },
    {
      "cell_type": "markdown",
      "source": [
        "**POS *tagging* en italiano con spaCy**"
      ],
      "metadata": {
        "id": "1AFX41-qVtkF"
      }
    },
    {
      "cell_type": "code",
      "source": [
        "!python -m spacy download it_core_news_sm"
      ],
      "metadata": {
        "colab": {
          "base_uri": "https://localhost:8080/"
        },
        "id": "G6phYhMRWx92",
        "outputId": "64732ce4-fd6a-409b-8a42-325f581dbf4f"
      },
      "execution_count": null,
      "outputs": [
        {
          "output_type": "stream",
          "name": "stdout",
          "text": [
            "Collecting it-core-news-sm==3.8.0\n",
            "  Downloading https://github.com/explosion/spacy-models/releases/download/it_core_news_sm-3.8.0/it_core_news_sm-3.8.0-py3-none-any.whl (13.0 MB)\n",
            "\u001b[2K     \u001b[90m━━━━━━━━━━━━━━━━━━━━━━━━━━━━━━━━━━━━━━━━\u001b[0m \u001b[32m13.0/13.0 MB\u001b[0m \u001b[31m82.4 MB/s\u001b[0m eta \u001b[36m0:00:00\u001b[0m\n",
            "\u001b[?25hInstalling collected packages: it-core-news-sm\n",
            "Successfully installed it-core-news-sm-3.8.0\n",
            "\u001b[38;5;2m✔ Download and installation successful\u001b[0m\n",
            "You can now load the package via spacy.load('it_core_news_sm')\n",
            "\u001b[38;5;3m⚠ Restart to reload dependencies\u001b[0m\n",
            "If you are in a Jupyter or Colab notebook, you may need to restart Python in\n",
            "order to load all the package's dependencies. You can do this by selecting the\n",
            "'Restart kernel' or 'Restart runtime' option.\n"
          ]
        }
      ]
    },
    {
      "cell_type": "code",
      "source": [
        "nlp = spacy.load(\"it_core_news_sm\")\n",
        "ruta_archivo = \"entrada_italiano.txt\"\n",
        "\n",
        "with open(ruta_archivo, \"r\", encoding=\"utf-8\") as archivo:\n",
        "    texto = archivo.read()\n",
        "\n",
        "doc = nlp(texto)\n",
        "\n",
        "ruta_salida = \"salida_italiano.txt\"\n",
        "\n",
        "with open(ruta_salida, \"w\", encoding=\"utf-8\") as archivo_salida:\n",
        "    archivo_salida.write(f\"{'Token':<15}{'POS':<10}{'Etiqueta Detallada':<20}{'Lema':<15}\\n\")\n",
        "    for token in doc:\n",
        "        archivo_salida.write(f\"{token.text:<15}{token.pos_:<10}{token.tag_:<20}{token.lemma_:<15}\\n\")\n",
        "\n",
        "print(f\"Análisis completado. Los resultados se han guardado en '{ruta_salida}'.\")\n"
      ],
      "metadata": {
        "colab": {
          "base_uri": "https://localhost:8080/"
        },
        "outputId": "e56be711-7ce3-426c-b1ee-c3bca5564e9a",
        "id": "fV0ECXDZWyOl"
      },
      "execution_count": 6,
      "outputs": [
        {
          "output_type": "stream",
          "name": "stdout",
          "text": [
            "Análisis completado. Los resultados se han guardado en 'salida_italiano.txt'.\n"
          ]
        }
      ]
    }
  ]
}